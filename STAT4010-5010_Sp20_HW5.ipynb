{
 "cells": [
  {
   "cell_type": "markdown",
   "metadata": {
    "deletable": false,
    "editable": false,
    "nbgrader": {
     "cell_type": "markdown",
     "checksum": "1115f15f4f04f56ec732864a00160521",
     "grade": false,
     "grade_id": "cell-d407a42e84598925",
     "locked": true,
     "schema_version": 3,
     "solution": false,
     "task": false
    }
   },
   "source": [
    "# Homework #5\n",
    "\n",
    "**See Canvas for HW #5 assignment due date**. Complete all of the following problems. Ideally, the theoretical problems should be answered in a Markdown cell directly underneath the question. If you don't know LaTex/Markdown, you may submit separate handwritten solutions to the theoretical problems. Please do not turn in messy work. Computational problems should be completed in this notebook (using the R kernel is preferred). Computational questions may require code, plots, analysis, interpretation, etc. Working in small groups is allowed, but it is important that you make an effort to master the material and hand in your own work. \n",
    "\n"
   ]
  },
  {
   "cell_type": "markdown",
   "metadata": {
    "deletable": false,
    "editable": false,
    "nbgrader": {
     "cell_type": "markdown",
     "checksum": "bf5c0774c2aaf96744af8a0efda6b07d",
     "grade": false,
     "grade_id": "cell-029c73d519e71a81",
     "locked": true,
     "schema_version": 3,
     "solution": false,
     "task": false
    }
   },
   "source": [
    "## A. Theoretical Problems"
   ]
  },
  {
   "cell_type": "markdown",
   "metadata": {
    "deletable": false,
    "editable": false,
    "nbgrader": {
     "cell_type": "markdown",
     "checksum": "12a1bfe9e5bac65d880fa4bdfc7a6806",
     "grade": false,
     "grade_id": "cell-9b9cc8da9df7eebc",
     "locked": true,
     "schema_version": 3,
     "solution": false,
     "task": false
    }
   },
   "source": [
    "### Problem A.1\n",
    "\n",
    "Assume the standard MLR model: for $i = 1,...,n$, $$Y_i = \\beta_0 + \\beta_1X_{i,1} + ... + \\beta_pX_{i,p} + \\varepsilon_i,$$ where ${\\varepsilon}_i \\overset{iid}{\\sim}N(0,\\sigma^2)$. For simplicity, let's assume that $\\sigma^2$ is known. The goal of this question is to show that the least squares estimator is equivalent to the maximum likelihood estimator.\n",
    "\n",
    "#### (a) Write down the (marginal) pdf of $Y_i$. Call it $f\\big(y_i; \\, \\mu(\\boldsymbol\\beta), \\, \\sigma^2 \\,\\big)$. (HINT: what's the mean and variance of $Y_i$?).\n"
   ]
  },
  {
   "cell_type": "markdown",
   "metadata": {
    "deletable": false,
    "nbgrader": {
     "cell_type": "markdown",
     "checksum": "f1265f7a0008cae0f974256ee9e38d50",
     "grade": true,
     "grade_id": "cell-c5627075570dc440",
     "locked": false,
     "points": 0,
     "schema_version": 3,
     "solution": true,
     "task": false
    }
   },
   "source": [
    "from hereon we will refer to the fitted value given a set of $x_i$'s as $y_{fit}$. We know this is a normal distribution with variance $\\sigma^2$ then: $f_y(y_i; \\mu(\\beta), \\sigma^2) = \\frac{1}{\\sigma \\sqrt{2 \\pi}} exp(\\frac{-1}{2} (\\frac{y_i - y_{fit}}{\\sigma})^2)$"
   ]
  },
  {
   "cell_type": "markdown",
   "metadata": {
    "deletable": false,
    "editable": false,
    "nbgrader": {
     "cell_type": "markdown",
     "checksum": "b641d9e508270d811514875000027a84",
     "grade": false,
     "grade_id": "cell-8dbaced4677dea05",
     "locked": true,
     "schema_version": 3,
     "solution": false,
     "task": false
    }
   },
   "source": [
    "#### (b) Write down the joint pdf of $(Y_1,...,Y_n)$, and simplify your expression using laws for exponentials.  Call it $f_\\mathbf{y}\\big(\\mathbf{y}; \\, \\mu(\\boldsymbol\\beta), \\, \\sigma^2 \\,\\big)$. (HINT: use the fact that independence allows you to multiply the marginal distributions together.)"
   ]
  },
  {
   "cell_type": "markdown",
   "metadata": {
    "deletable": false,
    "nbgrader": {
     "cell_type": "markdown",
     "checksum": "0406ce7a6a714cbebf59733c09a8c1a7",
     "grade": true,
     "grade_id": "cell-b3eedf9800d6544d",
     "locked": false,
     "points": 0,
     "schema_version": 3,
     "solution": true,
     "task": false
    }
   },
   "source": [
    "We know that $y_i$ is normaly distributed with $\\mu = y_{fit}$ so the pdf is $f_y(y_i; \\mu(\\beta), \\sigma^2) = \\frac{1}{(2 \\pi)^{\\frac{n}{2}} \\sigma^n} exp(\\frac{-1}{2 \\sigma^2} (\\sum_{i=1}^{n} (y_i - y_{fit})^2))$"
   ]
  },
  {
   "cell_type": "markdown",
   "metadata": {
    "deletable": false,
    "editable": false,
    "nbgrader": {
     "cell_type": "markdown",
     "checksum": "5ca2cfd9b4d5d052884c7bc59f55e64e",
     "grade": false,
     "grade_id": "cell-8ebfc5c96119ff3c",
     "locked": true,
     "schema_version": 3,
     "solution": false,
     "task": false
    }
   },
   "source": [
    "#### (c) The *likelihood function* is the joint pdf of $(Y_1,...,Y_n)$, interpreted as a function of the *parameters* rather than as a function of the data. We might denote the likelihood function as $L(\\boldsymbol\\beta \\, | \\mathbf{y} )$ to emphasize that it is a function of the parameters given the data. Write down the log of the likelihood function. Call it $\\ell(\\boldsymbol\\beta \\, | \\mathbf{y} )$.\n",
    "\n",
    "Convince yourself that the value of $\\boldsymbol\\beta$ that maximizes $L$ is the same as the value of $\\boldsymbol\\beta$ that maximizes $\\ell$."
   ]
  },
  {
   "cell_type": "markdown",
   "metadata": {
    "deletable": false,
    "nbgrader": {
     "cell_type": "markdown",
     "checksum": "3226e2714b33097cc2ee1d58f64ff0a0",
     "grade": true,
     "grade_id": "cell-25007834eae41315",
     "locked": false,
     "points": 0,
     "schema_version": 3,
     "solution": true,
     "task": false
    }
   },
   "source": [
    "$L(\\beta | y) = f_y$ therefor $\\ell (\\beta |y) = log(\\frac{1}{(2 \\pi)^{\\frac{n}{2}} \\sigma^n}) \\cdot \\frac{-1}{2 \\sigma^2} (\\sum_{i=1}^{n} (y_i - y_{fit})^2)$"
   ]
  },
  {
   "cell_type": "markdown",
   "metadata": {
    "deletable": false,
    "editable": false,
    "nbgrader": {
     "cell_type": "markdown",
     "checksum": "31dc9d9d3fd4d5a1bc8ca6cc7622ba44",
     "grade": false,
     "grade_id": "cell-7ff5a76bbfb807c2",
     "locked": true,
     "schema_version": 3,
     "solution": false,
     "task": false
    }
   },
   "source": [
    "#### (d) Argue that the maximum likelihood estimator is equivalent to the least squares estimator in this context."
   ]
  },
  {
   "cell_type": "markdown",
   "metadata": {
    "deletable": false,
    "nbgrader": {
     "cell_type": "markdown",
     "checksum": "e9f8bbd30a326ce2e547a0c8490174d7",
     "grade": true,
     "grade_id": "cell-0bc44198a034a04d",
     "locked": false,
     "points": 0,
     "schema_version": 3,
     "solution": true,
     "task": false
    }
   },
   "source": [
    "The way to minimize the function above to minimize the term $\\sum_{i=1}^{n} (y_i - y_{fit})^2$ which as we have gone over in previous homework is exactly the same goal as least squares estimator, hence the name."
   ]
  },
  {
   "cell_type": "markdown",
   "metadata": {
    "deletable": false,
    "editable": false,
    "nbgrader": {
     "cell_type": "markdown",
     "checksum": "4657b31e523480f409d3729a22607c96",
     "grade": false,
     "grade_id": "cell-24cba8315d4c3548",
     "locked": true,
     "schema_version": 3,
     "solution": false,
     "task": false
    }
   },
   "source": [
    "## B. Computational Problems"
   ]
  },
  {
   "cell_type": "markdown",
   "metadata": {
    "deletable": false,
    "editable": false,
    "nbgrader": {
     "cell_type": "markdown",
     "checksum": "4b9845b2dddc8e6edaa3d9c96e1367d1",
     "grade": false,
     "grade_id": "cell-c43c04b0e0770680",
     "locked": true,
     "schema_version": 3,
     "solution": false,
     "task": false
    }
   },
   "source": [
    "### Problem B.1\n",
    "\n",
    "#### For the teengamb data, fit a model with gamble as the response and the other variables as predictors. Look for violations of:\n",
    "\n",
    "1. Constant Variance\n",
    "2. Normality\n",
    "3. Linearity\n",
    "4. **STAT 5510 Only: Look for (a) outliers, (b) leverage points, and (b) potentially influential points. This part of the problem requires some self-study about defining and identifying leverage points, and describing the relationship between leverage and influence. Chapter 6 of *Linear Models with R* (pdf on Canvas) may help!**\n",
    "\n",
    "#### Write a short report detailing your findings."
   ]
  },
  {
   "cell_type": "code",
   "execution_count": 2,
   "metadata": {
    "deletable": false,
    "nbgrader": {
     "cell_type": "code",
     "checksum": "b44e59a854ceecde55294fd13646f0d3",
     "grade": true,
     "grade_id": "cell-258b3d4d8d72cabf",
     "locked": false,
     "points": 0,
     "schema_version": 3,
     "solution": true,
     "task": false
    },
    "scrolled": true
   },
   "outputs": [
    {
     "data": {
      "text/html": [
       "<table>\n",
       "<thead><tr><th scope=col>sex</th><th scope=col>status</th><th scope=col>income</th><th scope=col>verbal</th><th scope=col>gamble</th></tr></thead>\n",
       "<tbody>\n",
       "\t<tr><td>1   </td><td>51  </td><td>2.00</td><td>8   </td><td> 0.0</td></tr>\n",
       "\t<tr><td>1   </td><td>28  </td><td>2.50</td><td>8   </td><td> 0.0</td></tr>\n",
       "\t<tr><td>1   </td><td>37  </td><td>2.00</td><td>6   </td><td> 0.0</td></tr>\n",
       "\t<tr><td>1   </td><td>28  </td><td>7.00</td><td>4   </td><td> 7.3</td></tr>\n",
       "\t<tr><td>1   </td><td>65  </td><td>2.00</td><td>8   </td><td>19.6</td></tr>\n",
       "\t<tr><td>1   </td><td>61  </td><td>3.47</td><td>6   </td><td> 0.1</td></tr>\n",
       "</tbody>\n",
       "</table>\n"
      ],
      "text/latex": [
       "\\begin{tabular}{r|lllll}\n",
       " sex & status & income & verbal & gamble\\\\\n",
       "\\hline\n",
       "\t 1    & 51   & 2.00 & 8    &  0.0\\\\\n",
       "\t 1    & 28   & 2.50 & 8    &  0.0\\\\\n",
       "\t 1    & 37   & 2.00 & 6    &  0.0\\\\\n",
       "\t 1    & 28   & 7.00 & 4    &  7.3\\\\\n",
       "\t 1    & 65   & 2.00 & 8    & 19.6\\\\\n",
       "\t 1    & 61   & 3.47 & 6    &  0.1\\\\\n",
       "\\end{tabular}\n"
      ],
      "text/markdown": [
       "\n",
       "| sex | status | income | verbal | gamble |\n",
       "|---|---|---|---|---|\n",
       "| 1    | 51   | 2.00 | 8    |  0.0 |\n",
       "| 1    | 28   | 2.50 | 8    |  0.0 |\n",
       "| 1    | 37   | 2.00 | 6    |  0.0 |\n",
       "| 1    | 28   | 7.00 | 4    |  7.3 |\n",
       "| 1    | 65   | 2.00 | 8    | 19.6 |\n",
       "| 1    | 61   | 3.47 | 6    |  0.1 |\n",
       "\n"
      ],
      "text/plain": [
       "  sex status income verbal gamble\n",
       "1 1   51     2.00   8       0.0  \n",
       "2 1   28     2.50   8       0.0  \n",
       "3 1   37     2.00   6       0.0  \n",
       "4 1   28     7.00   4       7.3  \n",
       "5 1   65     2.00   8      19.6  \n",
       "6 1   61     3.47   6       0.1  "
      ]
     },
     "metadata": {},
     "output_type": "display_data"
    },
    {
     "data": {
      "text/plain": [
       "      sex             status          income           verbal     \n",
       " Min.   :0.0000   Min.   :18.00   Min.   : 0.600   Min.   : 1.00  \n",
       " 1st Qu.:0.0000   1st Qu.:28.00   1st Qu.: 2.000   1st Qu.: 6.00  \n",
       " Median :0.0000   Median :43.00   Median : 3.250   Median : 7.00  \n",
       " Mean   :0.4043   Mean   :45.23   Mean   : 4.642   Mean   : 6.66  \n",
       " 3rd Qu.:1.0000   3rd Qu.:61.50   3rd Qu.: 6.210   3rd Qu.: 8.00  \n",
       " Max.   :1.0000   Max.   :75.00   Max.   :15.000   Max.   :10.00  \n",
       "     gamble     \n",
       " Min.   :  0.0  \n",
       " 1st Qu.:  1.1  \n",
       " Median :  6.0  \n",
       " Mean   : 19.3  \n",
       " 3rd Qu.: 19.4  \n",
       " Max.   :156.0  "
      ]
     },
     "metadata": {},
     "output_type": "display_data"
    }
   ],
   "source": [
    "library(tidyverse)\n",
    "data(teengamb, package = \"faraway\")\n",
    "head(teengamb)\n",
    "summary(teengamb)"
   ]
  },
  {
   "cell_type": "code",
   "execution_count": 7,
   "metadata": {
    "scrolled": true
   },
   "outputs": [
    {
     "data": {
      "text/plain": [
       "\n",
       "Call:\n",
       "lm(formula = gamble ~ verbal + income + status + sex, data = teengamb)\n",
       "\n",
       "Residuals:\n",
       "    Min      1Q  Median      3Q     Max \n",
       "-51.082 -11.320  -1.451   9.452  94.252 \n",
       "\n",
       "Coefficients:\n",
       "             Estimate Std. Error t value Pr(>|t|)    \n",
       "(Intercept)  22.55565   17.19680   1.312   0.1968    \n",
       "verbal       -2.95949    2.17215  -1.362   0.1803    \n",
       "income        4.96198    1.02539   4.839 1.79e-05 ***\n",
       "status        0.05223    0.28111   0.186   0.8535    \n",
       "sex         -22.11833    8.21111  -2.694   0.0101 *  \n",
       "---\n",
       "Signif. codes:  0 '***' 0.001 '**' 0.01 '*' 0.05 '.' 0.1 ' ' 1\n",
       "\n",
       "Residual standard error: 22.69 on 42 degrees of freedom\n",
       "Multiple R-squared:  0.5267,\tAdjusted R-squared:  0.4816 \n",
       "F-statistic: 11.69 on 4 and 42 DF,  p-value: 1.815e-06\n"
      ]
     },
     "metadata": {},
     "output_type": "display_data"
    },
    {
     "name": "stderr",
     "output_type": "stream",
     "text": [
      "Warning message:\n",
      "\"`stat` is deprecated\"`geom_smooth()` using method = 'loess' and formula 'y ~ x'\n",
      "`geom_smooth()` using method = 'loess' and formula 'y ~ x'\n",
      "`geom_smooth()` using method = 'loess' and formula 'y ~ x'\n"
     ]
    },
    {
     "data": {
      "image/png": "[encoded data removed]",
      "text/plain": [
       "plot without title"
      ]
     },
     "metadata": {},
     "output_type": "display_data"
    }
   ],
   "source": [
    "lmodGamb = lm(data = teengamb, gamble~verbal + income + status + sex)\n",
    "summary(lmodGamb)\n",
    "library(gridExtra)\n",
    "p1 <- qplot(data = lmodGamb, x = .fitted, y = .resid) + geom_hline(yintercept = 0) + geom_smooth(se = FALSE) + ggtitle('Residuals vs. Fitted')\n",
    "p2 <- qplot(data = lmodGamb, sample =.stdresid, stat = \"qq\") + geom_abline(size = 1, color = 'red') + ggtitle('Normed QQ')\n",
    "p3 <- qplot(data = lmodGamb, x = .fitted, y = sqrt(abs(.stdresid))) + geom_smooth(se = FALSE) + ggtitle('Scale-Location')\n",
    "p4 <- qplot(data = lmodGamb, .hat, .stdresid) + geom_smooth(se = FALSE) + ggtitle('Residuals vs. Leverage')\n",
    "grid.arrange(p1,p2,p3,p4)"
   ]
  },
  {
   "cell_type": "markdown",
   "metadata": {
    "deletable": false,
    "nbgrader": {
     "cell_type": "markdown",
     "checksum": "ce761206fe2a04a511c70c2bd4a80a90",
     "grade": true,
     "grade_id": "cell-0f37c740eb8b12d5",
     "locked": false,
     "points": 0,
     "schema_version": 3,
     "solution": true,
     "task": false
    }
   },
   "source": [
    "The linear model seems to have some issues. The variance does not appear to be constant as seen in the scale location plot the data that falls below 20 on the fitted axis does not seem to have a horizontal line close to 1 which what we would expect to see for the standarized residuals of homoskedastic data. The normality assumption seems to hold for the values where the fitted data is greater than 20. The lower end of the data is all clustered above the y = 0 line, clearly not normal, but on the higher end of the fitted values the normality assumption seems to hold, abiet with non-constant variance, because there seems to be an interaction term between the error and fitted parameters. Lastly there does not seem to be clear evidence about the normality assumption. The middle part of the QQ plot shows data cluster around the line, but the high and low ends diverge enough that normality is probably violated. If I were to fit a linear model again I would try a reduced model with just income and sex as predictors and see if this eliminated some of the issues that this model seems to have."
   ]
  },
  {
   "cell_type": "code",
   "execution_count": 10,
   "metadata": {
    "deletable": false,
    "nbgrader": {
     "cell_type": "code",
     "checksum": "b087287e9973f55806af98d7cbd7271c",
     "grade": true,
     "grade_id": "cell-364becf625109917",
     "locked": false,
     "points": 0,
     "schema_version": 3,
     "solution": true,
     "task": false
    },
    "scrolled": true
   },
   "outputs": [
    {
     "data": {
      "text/plain": [
       "\n",
       "Call:\n",
       "lm(formula = gamble ~ income + sex, data = teengamb)\n",
       "\n",
       "Residuals:\n",
       "    Min      1Q  Median      3Q     Max \n",
       "-49.757 -11.649   0.844   8.659 100.243 \n",
       "\n",
       "Coefficients:\n",
       "            Estimate Std. Error t value Pr(>|t|)    \n",
       "(Intercept)    4.041      6.394   0.632  0.53070    \n",
       "income         5.172      0.951   5.438 2.24e-06 ***\n",
       "sex          -21.634      6.809  -3.177  0.00272 ** \n",
       "---\n",
       "Signif. codes:  0 '***' 0.001 '**' 0.01 '*' 0.05 '.' 0.1 ' ' 1\n",
       "\n",
       "Residual standard error: 22.75 on 44 degrees of freedom\n",
       "Multiple R-squared:  0.5014,\tAdjusted R-squared:  0.4787 \n",
       "F-statistic: 22.12 on 2 and 44 DF,  p-value: 2.243e-07\n"
      ]
     },
     "metadata": {},
     "output_type": "display_data"
    },
    {
     "data": {
      "text/html": [
       "<table>\n",
       "<thead><tr><th scope=col>Res.Df</th><th scope=col>RSS</th><th scope=col>Df</th><th scope=col>Sum of Sq</th><th scope=col>F</th><th scope=col>Pr(&gt;F)</th></tr></thead>\n",
       "<tbody>\n",
       "\t<tr><td>42       </td><td>21623.77 </td><td>NA       </td><td>       NA</td><td>      NA </td><td>       NA</td></tr>\n",
       "\t<tr><td>44       </td><td>22781.32 </td><td>-2       </td><td>-1157.553</td><td>1.124162 </td><td>0.3345045</td></tr>\n",
       "</tbody>\n",
       "</table>\n"
      ],
      "text/latex": [
       "\\begin{tabular}{r|llllll}\n",
       " Res.Df & RSS & Df & Sum of Sq & F & Pr(>F)\\\\\n",
       "\\hline\n",
       "\t 42        & 21623.77  & NA        &        NA &       NA  &        NA\\\\\n",
       "\t 44        & 22781.32  & -2        & -1157.553 & 1.124162  & 0.3345045\\\\\n",
       "\\end{tabular}\n"
      ],
      "text/markdown": [
       "\n",
       "| Res.Df | RSS | Df | Sum of Sq | F | Pr(>F) |\n",
       "|---|---|---|---|---|---|\n",
       "| 42        | 21623.77  | NA        |        NA |       NA  |        NA |\n",
       "| 44        | 22781.32  | -2        | -1157.553 | 1.124162  | 0.3345045 |\n",
       "\n"
      ],
      "text/plain": [
       "  Res.Df RSS      Df Sum of Sq F        Pr(>F)   \n",
       "1 42     21623.77 NA        NA       NA        NA\n",
       "2 44     22781.32 -2 -1157.553 1.124162 0.3345045"
      ]
     },
     "metadata": {},
     "output_type": "display_data"
    },
    {
     "name": "stderr",
     "output_type": "stream",
     "text": [
      "Warning message:\n",
      "\"`stat` is deprecated\"`geom_smooth()` using method = 'loess' and formula 'y ~ x'\n",
      "`geom_smooth()` using method = 'loess' and formula 'y ~ x'\n",
      "`geom_smooth()` using method = 'loess' and formula 'y ~ x'\n"
     ]
    },
    {
     "data": {
      "image/png": "[encoded data removed]",
      "text/plain": [
       "plot without title"
      ]
     },
     "metadata": {},
     "output_type": "display_data"
    }
   ],
   "source": [
    "lmodGambRed = lm(data = teengamb, gamble~ income + sex)\n",
    "summary(lmodGambRed)\n",
    "anova(lmodGamb,lmodGambRed)\n",
    "p1 <- qplot(data = lmodGambRed, x = .fitted, y = .resid) + geom_hline(yintercept = 0) + geom_smooth(se = FALSE) + ggtitle('Residuals vs. Fitted')\n",
    "p2 <- qplot(data = lmodGambRed, sample =.stdresid, stat = \"qq\") + geom_abline(size = 1, color = 'red') + ggtitle('Normed QQ')\n",
    "p3 <- qplot(data = lmodGambRed, x = .fitted, y = sqrt(abs(.stdresid))) + geom_smooth(se = FALSE) + ggtitle('Scale-Location')\n",
    "p4 <- qplot(data = lmodGambRed, .hat, .stdresid) + geom_smooth(se = FALSE) + ggtitle('Residuals vs. Leverage')\n",
    "grid.arrange(p1,p2,p3,p4)"
   ]
  },
  {
   "cell_type": "markdown",
   "metadata": {
    "deletable": false,
    "editable": false,
    "nbgrader": {
     "cell_type": "markdown",
     "checksum": "c74d279d2753a0b0b7c04213689ff0a1",
     "grade": false,
     "grade_id": "cell-963801795e6bb60d",
     "locked": true,
     "schema_version": 3,
     "solution": false,
     "task": false
    }
   },
   "source": [
    "### Problem B.2\n",
    "\n",
    "This [link](https://www.colorado.edu/amath/sites/default/files/attached-files/advertising.txt) contains advertising data. This dataset contains, in thousands of dollars, TV, Radio, and Newspaper budgets for 200 different markets along with the Sales, in thousands of units, for each market.\n",
    "\n",
    "#### (a) Fit the SLR model with sales as the response and radio as the predictor and save as ${\\tt slrmod}$. Perform some diagnostic tests to see whether any SLR assumptions have been violated. Explain your findings."
   ]
  },
  {
   "cell_type": "code",
   "execution_count": 8,
   "metadata": {
    "deletable": false,
    "editable": false,
    "nbgrader": {
     "cell_type": "code",
     "checksum": "d6cb44a225aba3e0fc85b638195ecdc5",
     "grade": false,
     "grade_id": "cell-2ed828f9a0da3633",
     "locked": true,
     "schema_version": 3,
     "solution": false,
     "task": false
    }
   },
   "outputs": [],
   "source": [
    "adv = read.csv(\"https://www.colorado.edu/amath/sites/default/files/attached-files/advertising.txt\", sep = \"\")"
   ]
  },
  {
   "cell_type": "code",
   "execution_count": 80,
   "metadata": {
    "deletable": false,
    "nbgrader": {
     "cell_type": "code",
     "checksum": "fa9099857e2f7f24cc1e4beb29ffbb92",
     "grade": false,
     "grade_id": "cell-8d9afb80d3752da2",
     "locked": false,
     "schema_version": 3,
     "solution": true,
     "task": false
    },
    "scrolled": true
   },
   "outputs": [
    {
     "name": "stderr",
     "output_type": "stream",
     "text": [
      "Warning message:\n",
      "\"`stat` is deprecated\"`geom_smooth()` using method = 'loess' and formula 'y ~ x'\n",
      "`geom_smooth()` using method = 'loess' and formula 'y ~ x'\n",
      "`geom_smooth()` using method = 'loess' and formula 'y ~ x'\n"
     ]
    },
    {
     "data": {
      "image/png": "[encoded data removed]",
      "text/plain": [
       "plot without title"
      ]
     },
     "metadata": {},
     "output_type": "display_data"
    }
   ],
   "source": [
    "slrmod = lm(data = adv, sales ~ radio)\n",
    "p1 <- qplot(data = slrmod, x = .fitted, y = .resid) + geom_hline(yintercept = 0) + geom_smooth(se = FALSE) + ggtitle('Residuals vs. Fitted')\n",
    "p2 <- qplot(data = slrmod, sample =.stdresid, stat = \"qq\") + geom_abline(size = 1, color = 'red') + ggtitle('Normed QQ')\n",
    "p3 <- qplot(data = slrmod, x = .fitted, y = sqrt(abs(.stdresid))) + geom_smooth(se = FALSE) + ggtitle('Scale-Location')\n",
    "p4 <- qplot(data = slrmod, .hat, .stdresid) + geom_smooth(se = FALSE) + ggtitle('Residuals vs. Leverage')\n",
    "grid.arrange(p1,p2,p3,p4)"
   ]
  },
  {
   "cell_type": "code",
   "execution_count": null,
   "metadata": {
    "deletable": false,
    "editable": false,
    "nbgrader": {
     "cell_type": "code",
     "checksum": "a495c5162e3b3eafa5633d1c05238940",
     "grade": true,
     "grade_id": "cell-7ece0882623bfdfd",
     "locked": true,
     "points": 3,
     "schema_version": 3,
     "solution": false,
     "task": false
    }
   },
   "outputs": [],
   "source": []
  },
  {
   "cell_type": "code",
   "execution_count": 17,
   "metadata": {
    "deletable": false,
    "nbgrader": {
     "cell_type": "code",
     "checksum": "3ddeee0076eb695ebb004b3412710842",
     "grade": true,
     "grade_id": "cell-746567ac84b82c00",
     "locked": false,
     "points": 0,
     "schema_version": 3,
     "solution": true,
     "task": false
    }
   },
   "outputs": [
    {
     "data": {
      "text/plain": [
       "\n",
       "\tShapiro-Wilk normality test\n",
       "\n",
       "data:  residuals(slrmod)\n",
       "W = 0.96072, p-value = 2.367e-05\n"
      ]
     },
     "metadata": {},
     "output_type": "display_data"
    }
   ],
   "source": [
    "shapiro.test(residuals(slrmod))"
   ]
  },
  {
   "cell_type": "markdown",
   "metadata": {
    "deletable": false,
    "nbgrader": {
     "cell_type": "markdown",
     "checksum": "c6f4288721b9f18a88f83bf13a36a63c",
     "grade": true,
     "grade_id": "cell-21ba82295bcb767d",
     "locked": false,
     "points": 0,
     "schema_version": 3,
     "solution": true,
     "task": false
    }
   },
   "source": [
    "This linear model seems to have less issues than the first problem. The variance assumption seems to be violated as shown by the residuals vs fitted plot were variance grows as the fitted values do. However the normality assumption seems somewhat supported as seen by the scale location plot on the higher end centered around y = 1 and the Shapiro Wilk test both of which suggest a normal distribution. The linearity assumption seems somewhat supported by the QQ plot."
   ]
  },
  {
   "cell_type": "markdown",
   "metadata": {
    "deletable": false,
    "editable": false,
    "nbgrader": {
     "cell_type": "markdown",
     "checksum": "0d850be96619bee5c507e1aa2aed9f0a",
     "grade": false,
     "grade_id": "cell-a03c2ef181521ffc",
     "locked": true,
     "schema_version": 3,
     "solution": false,
     "task": false
    }
   },
   "source": [
    "#### (b) Produce a plot that isolates the effect of TV on sales (adjusting for radio). What does this plot suggest about the relationship between these two variables?"
   ]
  },
  {
   "cell_type": "code",
   "execution_count": 102,
   "metadata": {
    "deletable": false,
    "nbgrader": {
     "cell_type": "code",
     "checksum": "2489dd55a19315d22f82cbbd0c94895e",
     "grade": true,
     "grade_id": "cell-736efb3346a3dce9",
     "locked": false,
     "points": 0,
     "schema_version": 3,
     "solution": true,
     "task": false
    },
    "scrolled": true
   },
   "outputs": [
    {
     "data": {
      "image/png": "[encoded data removed]",
      "text/plain": [
       "plot without title"
      ]
     },
     "metadata": {},
     "output_type": "display_data"
    }
   ],
   "source": [
    "slrmodTV = lm(data = adv, TV ~ radio)\n",
    "residSales = residuals(slrmod)\n",
    "residTV = residuals(slrmodTV)\n",
    "resdf = as.data.frame(cbind(residSales, residTV))\n",
    "ggplot(data = resdf, aes(x = residSales, y = residTV))+geom_point() + geom_smooth(method = 'lm', formula = y~x)"
   ]
  },
  {
   "cell_type": "markdown",
   "metadata": {
    "deletable": false,
    "nbgrader": {
     "cell_type": "markdown",
     "checksum": "b5482b90743cbf354f43dda18712b3b8",
     "grade": true,
     "grade_id": "cell-e09da0cef06e8b98",
     "locked": false,
     "points": 0,
     "schema_version": 3,
     "solution": true,
     "task": false
    }
   },
   "source": [
    "There is a clear deviation from the normality assumption, ie the data is not clustered evenly above and below the line with even variance"
   ]
  },
  {
   "cell_type": "markdown",
   "metadata": {
    "deletable": false,
    "editable": false,
    "nbgrader": {
     "cell_type": "markdown",
     "checksum": "e374523a4815bac32f6079d115eb70fb",
     "grade": false,
     "grade_id": "cell-9b894f7dff9a2e31",
     "locked": true,
     "schema_version": 3,
     "solution": false,
     "task": false
    }
   },
   "source": [
    "#### (c) Produce a plot that isolates the effect of newspaper on sales (adjusting for radio). What does this plot suggest about the relationship between these two variables?"
   ]
  },
  {
   "cell_type": "code",
   "execution_count": 94,
   "metadata": {
    "deletable": false,
    "nbgrader": {
     "cell_type": "code",
     "checksum": "2748b6d044c10eddeb5343e09c4f291f",
     "grade": true,
     "grade_id": "cell-483bdc9ae3b93120",
     "locked": false,
     "points": 0,
     "schema_version": 3,
     "solution": true,
     "task": false
    },
    "scrolled": true
   },
   "outputs": [
    {
     "data": {
      "image/png": "[encoded data removed]",
      "text/plain": [
       "plot without title"
      ]
     },
     "metadata": {},
     "output_type": "display_data"
    }
   ],
   "source": [
    "slrmodNews = lm(data = adv, newspaper ~ radio)\n",
    "residSales = residuals(slrmod)\n",
    "residNews = residuals(slrmodNews)\n",
    "resdf = as.data.frame(cbind(residSales, residNews))\n",
    "ggplot(data = resdf, aes(x = residSales, y = residNews))+geom_point() + geom_smooth(method = 'lm', formula = y~x)"
   ]
  },
  {
   "cell_type": "markdown",
   "metadata": {
    "deletable": false,
    "nbgrader": {
     "cell_type": "markdown",
     "checksum": "e251e5543c28c611bdd37e20e2b430d8",
     "grade": true,
     "grade_id": "cell-0de2bd0bb2085c6f",
     "locked": false,
     "points": 0,
     "schema_version": 3,
     "solution": true,
     "task": false
    }
   },
   "source": [
    "This data shows constant variance around the line y = 0 so the interaction term is likely 0 or close enough that it is a safe approximation."
   ]
  },
  {
   "cell_type": "markdown",
   "metadata": {
    "deletable": false,
    "editable": false,
    "nbgrader": {
     "cell_type": "markdown",
     "checksum": "573f7c0da89e4b0bba60ce1523699e2c",
     "grade": false,
     "grade_id": "cell-7c0457828429f0cc",
     "locked": true,
     "schema_version": 3,
     "solution": false,
     "task": false
    }
   },
   "source": [
    "#### (d) Fit the MLR model that includes radio and TV, and save as ${\\tt mlrmod}$. Does the inclusion of this predictor fix any issues that you dioagnosed in part (a)? Does it add any other issues?"
   ]
  },
  {
   "cell_type": "code",
   "execution_count": 26,
   "metadata": {
    "deletable": false,
    "nbgrader": {
     "cell_type": "code",
     "checksum": "36ea256e1dd60eed7493451981d721e4",
     "grade": false,
     "grade_id": "cell-9da0abb995041980",
     "locked": false,
     "schema_version": 3,
     "solution": true,
     "task": false
    },
    "scrolled": true
   },
   "outputs": [
    {
     "name": "stderr",
     "output_type": "stream",
     "text": [
      "Warning message:\n",
      "\"`stat` is deprecated\"`geom_smooth()` using method = 'loess' and formula 'y ~ x'\n",
      "`geom_smooth()` using method = 'loess' and formula 'y ~ x'\n",
      "`geom_smooth()` using method = 'loess' and formula 'y ~ x'\n"
     ]
    },
    {
     "data": {
      "image/png": "[encoded data removed]",
      "text/plain": [
       "plot without title"
      ]
     },
     "metadata": {},
     "output_type": "display_data"
    }
   ],
   "source": [
    "mlrmod = lm(data = adv, sales ~ TV + radio)\n",
    "p1 <- qplot(data = mlrmod, x = .fitted, y = .resid) + geom_hline(yintercept = 0) + geom_smooth(se = FALSE) + ggtitle('Residuals vs. Fitted')\n",
    "p2 <- qplot(data = mlrmod, sample =.stdresid, stat = \"qq\") + geom_abline(size = 1, color = 'red') + ggtitle('Normed QQ')\n",
    "p3 <- qplot(data = mlrmod, x = .fitted, y = sqrt(abs(.stdresid))) + geom_smooth(se = FALSE) + ggtitle('Scale-Location')\n",
    "p4 <- qplot(data = mlrmod, .hat, .stdresid) + geom_smooth(se = FALSE) + ggtitle('Residuals vs. Leverage')\n",
    "grid.arrange(p1,p2,p3,p4)"
   ]
  },
  {
   "cell_type": "code",
   "execution_count": null,
   "metadata": {
    "deletable": false,
    "editable": false,
    "nbgrader": {
     "cell_type": "code",
     "checksum": "c1cf6c4d92b92692d8998153cd0ad278",
     "grade": true,
     "grade_id": "cell-e26b64616a1fa553",
     "locked": true,
     "points": 0,
     "schema_version": 3,
     "solution": false,
     "task": false
    }
   },
   "outputs": [],
   "source": []
  },
  {
   "cell_type": "markdown",
   "metadata": {
    "deletable": false,
    "nbgrader": {
     "cell_type": "markdown",
     "checksum": "50d3f649266d338b946fc9e7d5c08361",
     "grade": true,
     "grade_id": "cell-d45614807fa0dd22",
     "locked": false,
     "points": 0,
     "schema_version": 3,
     "solution": true,
     "task": false
    }
   },
   "source": [
    "The MLR model seems to have fixed one problem at the expense of another. The scale location plot looks more data clustered around the y = 1 line, but the constant variance assumption is no better, and trying to scale the error terms no longer looks like a straightforward problem because there does not appear to be a constant interaction term between the fitted and residual values. The QQ plot looks basically the same so the linearity assumption is somewhat supported."
   ]
  },
  {
   "cell_type": "markdown",
   "metadata": {
    "deletable": false,
    "editable": false,
    "nbgrader": {
     "cell_type": "markdown",
     "checksum": "872bba5d29a729c10d78666199446e6e",
     "grade": false,
     "grade_id": "cell-0c7615837788a298",
     "locked": true,
     "schema_version": 3,
     "solution": false,
     "task": false
    }
   },
   "source": [
    "#### (e) Add TV^2 to the MLR model in part (d) and save as ${\\tt mlrmodsq}$. How did this change the fit of the model? What conclusions might you draw?"
   ]
  },
  {
   "cell_type": "code",
   "execution_count": 27,
   "metadata": {
    "deletable": false,
    "nbgrader": {
     "cell_type": "code",
     "checksum": "1e0df82411c3c4b3c4360abc70e86b02",
     "grade": false,
     "grade_id": "cell-46d648156660d3c0",
     "locked": false,
     "schema_version": 3,
     "solution": true,
     "task": false
    },
    "scrolled": true
   },
   "outputs": [
    {
     "name": "stderr",
     "output_type": "stream",
     "text": [
      "Warning message:\n",
      "\"`stat` is deprecated\"`geom_smooth()` using method = 'loess' and formula 'y ~ x'\n",
      "`geom_smooth()` using method = 'loess' and formula 'y ~ x'\n",
      "`geom_smooth()` using method = 'loess' and formula 'y ~ x'\n"
     ]
    },
    {
     "data": {
      "image/png": "[encoded data removed]",
      "text/plain": [
       "plot without title"
      ]
     },
     "metadata": {},
     "output_type": "display_data"
    }
   ],
   "source": [
    "mlrmodsq = lm(data = adv, sales ~ TV + radio + I(TV^2))\n",
    "p1 <- qplot(data = mlrmodsq, x = .fitted, y = .resid) + geom_hline(yintercept = 0) + geom_smooth(se = FALSE) + ggtitle('Residuals vs. Fitted')\n",
    "p2 <- qplot(data = mlrmodsq, sample =.stdresid, stat = \"qq\") + geom_abline(size = 1, color = 'red') + ggtitle('Normed QQ')\n",
    "p3 <- qplot(data = mlrmodsq, x = .fitted, y = sqrt(abs(.stdresid))) + geom_smooth(se = FALSE) + ggtitle('Scale-Location')\n",
    "p4 <- qplot(data = mlrmodsq, .hat, .stdresid) + geom_smooth(se = FALSE) + ggtitle('Residuals vs. Leverage')\n",
    "grid.arrange(p1,p2,p3,p4)"
   ]
  },
  {
   "cell_type": "code",
   "execution_count": null,
   "metadata": {
    "deletable": false,
    "editable": false,
    "nbgrader": {
     "cell_type": "code",
     "checksum": "31be3c073296f32dca9f711ad38453b1",
     "grade": true,
     "grade_id": "cell-e181e17c1f6cb050",
     "locked": true,
     "points": 0,
     "schema_version": 3,
     "solution": false,
     "task": false
    }
   },
   "outputs": [],
   "source": []
  },
  {
   "cell_type": "markdown",
   "metadata": {
    "deletable": false,
    "nbgrader": {
     "cell_type": "markdown",
     "checksum": "1441e7e56e6dcda74f2a428398436fce",
     "grade": true,
     "grade_id": "cell-a69e804f853d3b46",
     "locked": false,
     "points": 0,
     "schema_version": 3,
     "solution": true,
     "task": false
    }
   },
   "source": [
    "Again this has solved one problem at the expense of making another worse. The constant variance assumption is even more clearly violated, but the data is tightly clustered around the y = x line so the linearity assumption is much more strongly supported. The linearity assumption is more important than the constant variance one so the model with the quadradic term is likely the better option."
   ]
  },
  {
   "cell_type": "markdown",
   "metadata": {
    "deletable": false,
    "editable": false,
    "nbgrader": {
     "cell_type": "markdown",
     "checksum": "c6d1f33222223ce7de8660e982f0914c",
     "grade": false,
     "grade_id": "cell-d1ed1a144462cab1",
     "locked": true,
     "schema_version": 3,
     "solution": false,
     "task": false
    }
   },
   "source": [
    "### Problem B.3 \n",
    "\n",
    "Researchers at the National Institutes of Standards and Technology (NIST) collected pipline data on ultrasonic measurements of the depth of defects in the Alaska pipeline in the field. The depths of the defects were then remeasured in the laboratory. The laboratory measurements are more accurate than the field measurements, but more time consuming and expensive. We want to develop a regression model for correcting the in field measurements. \n",
    "\n",
    "#### (a) Fit a regression model where Lab is the response and Field is the predictor and save this model as ${\\tt lmodPipeline}$. Check for non-constant variance. "
   ]
  },
  {
   "cell_type": "code",
   "execution_count": 51,
   "metadata": {
    "deletable": false,
    "nbgrader": {
     "cell_type": "code",
     "checksum": "03d4f320181ec66392875b4130c253c1",
     "grade": false,
     "grade_id": "cell-2daffbfc19443873",
     "locked": false,
     "schema_version": 3,
     "solution": true,
     "task": false
    },
    "scrolled": true
   },
   "outputs": [
    {
     "name": "stderr",
     "output_type": "stream",
     "text": [
      "Warning message:\n",
      "\"`stat` is deprecated\"`geom_smooth()` using method = 'loess' and formula 'y ~ x'\n",
      "`geom_smooth()` using method = 'loess' and formula 'y ~ x'\n",
      "`geom_smooth()` using method = 'loess' and formula 'y ~ x'\n"
     ]
    },
    {
     "data": {
      "image/png": "[encoded data removed]",
      "text/plain": [
       "plot without title"
      ]
     },
     "metadata": {},
     "output_type": "display_data"
    }
   ],
   "source": [
    "pipeline = read.table(\"pipeline.txt\", header = TRUE, sep = \"\")\n",
    "lmodPipeline = lm(data = pipeline, Lab~Field)\n",
    "p1 <- qplot(data = lmodPipeline, x = .fitted, y = .resid) + geom_hline(yintercept = 0) + geom_smooth(se = FALSE) + ggtitle('Residuals vs. Fitted')\n",
    "p2 <- qplot(data = lmodPipeline, sample =.stdresid, stat = \"qq\") + geom_abline(size = 1, color = 'red') + ggtitle('Normed QQ')\n",
    "p3 <- qplot(data = lmodPipeline, x = .fitted, y = sqrt(abs(.stdresid))) + geom_smooth(se = FALSE) + ggtitle('Scale-Location')\n",
    "p4 <- qplot(data = lmodPipeline, .hat, .stdresid) + geom_smooth(se = FALSE) + ggtitle('Residuals vs. Leverage')\n",
    "grid.arrange(p1,p2,p3,p4)"
   ]
  },
  {
   "cell_type": "code",
   "execution_count": null,
   "metadata": {
    "deletable": false,
    "editable": false,
    "nbgrader": {
     "cell_type": "code",
     "checksum": "3ac2ec464a0d89dbf4b284282f67af9f",
     "grade": true,
     "grade_id": "cell-7efa180b70d2484c",
     "locked": true,
     "points": 0,
     "schema_version": 3,
     "solution": false,
     "task": false
    }
   },
   "outputs": [],
   "source": []
  },
  {
   "cell_type": "markdown",
   "metadata": {
    "deletable": false,
    "nbgrader": {
     "cell_type": "markdown",
     "checksum": "aed1e4394b5041928a712cb17bd4f498",
     "grade": true,
     "grade_id": "cell-07d539a641062820",
     "locked": false,
     "points": 0,
     "schema_version": 3,
     "solution": true,
     "task": false
    }
   },
   "source": [
    "The constant variance assumption is clearly violated as shown by the residuals vs. fitted plot. data should be clusted around y = 0 with a consistant normal spread away from that line. "
   ]
  },
  {
   "cell_type": "markdown",
   "metadata": {
    "deletable": false,
    "editable": false,
    "nbgrader": {
     "cell_type": "markdown",
     "checksum": "87d0e72924f90f7ac2264d3c5ea8d90e",
     "grade": false,
     "grade_id": "cell-04736595568bd784",
     "locked": true,
     "schema_version": 3,
     "solution": false,
     "task": false
    }
   },
   "source": [
    "#### (b) Sometimes transforming the response and predictor helps in stabilizing variance. Find a transformation on Lab and/or Field so that in the transformed scale the relationship is approximately linear with constant variance. Restrict your choice of transformation to square root, log, and inverse. Save your transformed variables as ${\\tt pipeline$LabTransform}$ and ${\\tt pipeline$FieldTransform}$. Then, regress the transformed Lab variable (repsonse) onto the transformed field variable (predictor), and save this as ${\\tt lmodTr}$."
   ]
  },
  {
   "cell_type": "code",
   "execution_count": 73,
   "metadata": {
    "deletable": false,
    "nbgrader": {
     "cell_type": "code",
     "checksum": "02c6cad83d19549f7adcfc72a54f8468",
     "grade": false,
     "grade_id": "cell-78d99ed96750b959",
     "locked": false,
     "schema_version": 3,
     "solution": true,
     "task": false
    }
   },
   "outputs": [
    {
     "name": "stderr",
     "output_type": "stream",
     "text": [
      "`geom_smooth()` using method = 'loess' and formula 'y ~ x'\n"
     ]
    },
    {
     "data": {
      "text/plain": [
       "\n",
       "Call:\n",
       "lm(formula = LabTransform ~ FieldTransform, data = pipeline)\n",
       "\n",
       "Residuals:\n",
       "     Min       1Q   Median       3Q      Max \n",
       "-0.40212 -0.11853 -0.03092  0.13424  0.40209 \n",
       "\n",
       "Coefficients:\n",
       "               Estimate Std. Error t value Pr(>|t|)    \n",
       "(Intercept)    -0.06849    0.09305  -0.736    0.463    \n",
       "FieldTransform  1.05483    0.02743  38.457   <2e-16 ***\n",
       "---\n",
       "Signif. codes:  0 '***' 0.001 '**' 0.01 '*' 0.05 '.' 0.1 ' ' 1\n",
       "\n",
       "Residual standard error: 0.1837 on 105 degrees of freedom\n",
       "Multiple R-squared:  0.9337,\tAdjusted R-squared:  0.9331 \n",
       "F-statistic:  1479 on 1 and 105 DF,  p-value: < 2.2e-16\n"
      ]
     },
     "metadata": {},
     "output_type": "display_data"
    },
    {
     "data": {
      "image/png": "[encoded data removed]",
      "text/plain": [
       "plot without title"
      ]
     },
     "metadata": {},
     "output_type": "display_data"
    }
   ],
   "source": [
    "lmodPipeline2 = lm(data = pipeline, log(Lab) ~ log(Field))\n",
    "qplot(data = lmodPipeline2, x = .fitted, y = .resid) + geom_hline(yintercept = 0) + geom_smooth(se = FALSE) + ggtitle('Residuals vs. Fitted')\n",
    "pipeline$LabTransform = log(pipeline$Lab)\n",
    "pipeline$FieldTransform = log(pipeline$Field)\n",
    "lmodTr = lm(data = pipeline, LabTransform ~ FieldTransform)\n",
    "summary(lmodTr)"
   ]
  },
  {
   "cell_type": "code",
   "execution_count": null,
   "metadata": {
    "deletable": false,
    "editable": false,
    "nbgrader": {
     "cell_type": "code",
     "checksum": "34f58ad80a07c273a46175754d073652",
     "grade": true,
     "grade_id": "cell-12b136c602327196",
     "locked": true,
     "points": 0,
     "schema_version": 3,
     "solution": false,
     "task": false
    }
   },
   "outputs": [],
   "source": []
  },
  {
   "cell_type": "markdown",
   "metadata": {
    "deletable": false,
    "editable": false,
    "nbgrader": {
     "cell_type": "markdown",
     "checksum": "35b6aab77e77d2eef151b05a9f609515",
     "grade": false,
     "grade_id": "cell-d66dd1a5ca43a21e",
     "locked": true,
     "schema_version": 3,
     "solution": false,
     "task": false
    }
   },
   "source": [
    "#### (c) Now let's try weighted least squares. The code below splits the range of Field into 12 groups of size nine (except for the last goup which has only eight values). Within each group, we compute the variance of Lab as varlab and the mean of Field as meanfield. Write comments for each line of the code to demonstrate what each line is doing."
   ]
  },
  {
   "cell_type": "code",
   "execution_count": 74,
   "metadata": {
    "deletable": false,
    "editable": false,
    "nbgrader": {
     "cell_type": "code",
     "checksum": "e0f70f2fcf9f4832e1d091bbebf566f1",
     "grade": false,
     "grade_id": "cell-b345708f72b100c5",
     "locked": true,
     "schema_version": 3,
     "solution": false,
     "task": false
    }
   },
   "outputs": [],
   "source": [
    "i = order(pipeline$Field); \n",
    "npipe = pipeline[i,]; \n",
    "ff = gl(12,9)[-108];  \n",
    "meanfield = unlist(lapply(split(npipe$Field,ff),mean));  \n",
    "varlab = unlist(lapply(split(npipe$Lab,ff),var)); "
   ]
  },
  {
   "cell_type": "markdown",
   "metadata": {
    "deletable": false,
    "nbgrader": {
     "cell_type": "code",
     "checksum": "954ac6d10f82e71e5bcb155cde094db5",
     "grade": true,
     "grade_id": "cell-991c87bb0eaf36c3",
     "locked": false,
     "points": 0,
     "schema_version": 3,
     "solution": true,
     "task": false
    }
   },
   "source": [
    "The first line orders the Field vector from greatest to least.\n",
    "The second line then brings all the data from the pipeline dataframe back in to form the new dataframe npipe.\n",
    "The third line generates a list of 108 factors into 12 levels, each with 9 observations.\n",
    "The fourth line then splits the Field vector of npipe by the factor level and the apply function is used to calculate the mean for each level, and then these means are gathered into the vector meanfield.\n",
    "The fifth line follows the same procedure as the fourth, but instead calculates the variance of each level."
   ]
  },
  {
   "cell_type": "markdown",
   "metadata": {
    "deletable": false,
    "editable": false,
    "nbgrader": {
     "cell_type": "markdown",
     "checksum": "4da07f644286d69083c71c31aeb07aa4",
     "grade": false,
     "grade_id": "cell-bd5d7013154f7db7",
     "locked": true,
     "schema_version": 3,
     "solution": false,
     "task": false
    }
   },
   "source": [
    "#### (d) Suppose that the variance in the repsonse is linked to the predictor in the following way: $$ Var(Lab) = a_0Field^{a_2}.$$ Use simple linear regression on (transformations of) varlab and meanfield to estimate $a_0$ and $a_1$. Call this regression ${\\tt lmodVar}$.Use these estimates to perform weighted least squares where the weights are the inverse of the variance of Lab. Call this regression ${\\tt lmodwls}$.  Print a summary of this model and comment on the fit."
   ]
  },
  {
   "cell_type": "code",
   "execution_count": null,
   "metadata": {
    "deletable": false,
    "nbgrader": {
     "cell_type": "code",
     "checksum": "721cbb86dc813abcab950578906868bc",
     "grade": false,
     "grade_id": "cell-2be1ed8bcceb8e72",
     "locked": false,
     "schema_version": 3,
     "solution": true,
     "task": false
    }
   },
   "outputs": [],
   "source": [
    "#YOUR CODE HERE\n",
    "fail() # No Answer - remove if you provide an answer"
   ]
  },
  {
   "cell_type": "code",
   "execution_count": null,
   "metadata": {
    "deletable": false,
    "editable": false,
    "nbgrader": {
     "cell_type": "code",
     "checksum": "3c99a0bddc367e2115a4e48b30280bf0",
     "grade": true,
     "grade_id": "cell-ca9707968f565568",
     "locked": true,
     "points": 0,
     "schema_version": 3,
     "solution": false,
     "task": false
    }
   },
   "outputs": [],
   "source": []
  },
  {
   "cell_type": "code",
   "execution_count": null,
   "metadata": {
    "deletable": false,
    "nbgrader": {
     "cell_type": "code",
     "checksum": "a11656e69fbfae007e45171c799b058d",
     "grade": false,
     "grade_id": "cell-122ab7f9c9011619",
     "locked": false,
     "schema_version": 3,
     "solution": true,
     "task": false
    }
   },
   "outputs": [],
   "source": [
    "#YOUR CODE HERE\n",
    "fail() # No Answer - remove if you provide an answer"
   ]
  },
  {
   "cell_type": "code",
   "execution_count": null,
   "metadata": {
    "deletable": false,
    "editable": false,
    "nbgrader": {
     "cell_type": "code",
     "checksum": "a9310cad0e6c08605992475cc098447d",
     "grade": true,
     "grade_id": "cell-96efdbd49a391754",
     "locked": true,
     "points": 0,
     "schema_version": 3,
     "solution": false,
     "task": false
    }
   },
   "outputs": [],
   "source": []
  },
  {
   "cell_type": "code",
   "execution_count": null,
   "metadata": {
    "deletable": false,
    "nbgrader": {
     "cell_type": "code",
     "checksum": "f3ca9b58f41d66690bb32c2108dd94c6",
     "grade": true,
     "grade_id": "cell-9f81cdea73b89a30",
     "locked": false,
     "points": 0,
     "schema_version": 3,
     "solution": true,
     "task": false
    }
   },
   "outputs": [],
   "source": [
    "#YOUR CODE HERE\n",
    "fail() # No Answer - remove if you provide an answer"
   ]
  },
  {
   "cell_type": "markdown",
   "metadata": {
    "deletable": false,
    "nbgrader": {
     "cell_type": "markdown",
     "checksum": "e582a6eab2a159daf998aec85744b9ca",
     "grade": true,
     "grade_id": "cell-e79b56d9a59c4dc7",
     "locked": false,
     "points": 0,
     "schema_version": 3,
     "solution": true,
     "task": false
    }
   },
   "source": [
    "YOUR ANSWER HERE"
   ]
  }
 ],
 "metadata": {
  "kernelspec": {
   "display_name": "R",
   "language": "R",
   "name": "ir"
  },
  "language_info": {
   "codemirror_mode": "r",
   "file_extension": ".r",
   "mimetype": "text/x-r-source",
   "name": "R",
   "pygments_lexer": "r",
   "version": "3.6.1"
  }
 },
 "nbformat": 4,
 "nbformat_minor": 2
}
